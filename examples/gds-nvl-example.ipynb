{
 "cells": [
  {
   "cell_type": "code",
   "execution_count": null,
   "metadata": {},
   "outputs": [],
   "source": [
    "%pip install graphdatascience"
   ]
  },
  {
   "cell_type": "markdown",
   "metadata": {},
   "source": [
    "## Setup GDS graph"
   ]
  },
  {
   "cell_type": "code",
   "execution_count": 2,
   "metadata": {},
   "outputs": [],
   "source": [
    "import os\n",
    "\n",
    "from graphdatascience import GraphDataScience\n",
    "\n",
    "# Get Neo4j DB URI, credentials and name from environment if applicable\n",
    "NEO4J_URI = os.environ.get(\"NEO4J_URI\", \"bolt://localhost:7687\")\n",
    "NEO4J_AUTH = (\"neo4j\", None)\n",
    "NEO4J_DB = os.environ.get(\"NEO4J_DB\", \"neo4j\")\n",
    "if os.environ.get(\"NEO4J_USER\") and os.environ.get(\"NEO4J_PASSWORD\"):\n",
    "    NEO4J_AUTH = (\n",
    "        os.environ.get(\"NEO4J_USER\"),\n",
    "        os.environ.get(\"NEO4J_PASSWORD\"),\n",
    "    )\n",
    "gds = GraphDataScience(NEO4J_URI, auth=NEO4J_AUTH, database=NEO4J_DB)"
   ]
  },
  {
   "cell_type": "code",
   "execution_count": 3,
   "metadata": {},
   "outputs": [],
   "source": [
    "for g in gds.graph.list()[\"graphName\"]:\n",
    "    gds.graph.drop(g)"
   ]
  },
  {
   "cell_type": "code",
   "execution_count": null,
   "metadata": {},
   "outputs": [],
   "source": [
    "G_imdb = gds.graph.load_cora()\n",
    "# G_imdb = gds.graph.load_imdb()"
   ]
  },
  {
   "cell_type": "code",
   "execution_count": null,
   "metadata": {},
   "outputs": [],
   "source": [
    "gds.pageRank.mutate(G_imdb, mutateProperty=\"pagerank\")"
   ]
  },
  {
   "cell_type": "code",
   "execution_count": null,
   "metadata": {},
   "outputs": [],
   "source": [
    "# Compute communities\n",
    "\n",
    "gds.louvain.mutate(G_imdb, mutateProperty=\"componentId\")"
   ]
  },
  {
   "cell_type": "code",
   "execution_count": 7,
   "metadata": {},
   "outputs": [],
   "source": [
    "G_sample, _ = gds.graph.sample.rwr(\"sampled_2\", G_imdb)"
   ]
  },
  {
   "cell_type": "code",
   "execution_count": 8,
   "metadata": {},
   "outputs": [],
   "source": [
    "## Prepare input for nevada"
   ]
  },
  {
   "cell_type": "code",
   "execution_count": null,
   "metadata": {},
   "outputs": [],
   "source": [
    "actual_node_properties = list(G_imdb.node_properties().to_dict().values())[0]\n",
    "actual_node_properties"
   ]
  },
  {
   "cell_type": "code",
   "execution_count": null,
   "metadata": {},
   "outputs": [],
   "source": [
    "node_df = gds.graph.nodeProperties.stream(\n",
    "    G_sample, actual_node_properties, listNodeLabels=True, separate_property_columns=True\n",
    ")\n",
    "\n",
    "node_df"
   ]
  },
  {
   "cell_type": "code",
   "execution_count": null,
   "metadata": {},
   "outputs": [],
   "source": [
    "# Rescale for size\n",
    "scores = node_df[\"pagerank\"]\n",
    "\n",
    "node_df[\"pagerank\"] = scores / scores.min()\n",
    "node_df[\"pagerank\"]"
   ]
  },
  {
   "cell_type": "code",
   "execution_count": null,
   "metadata": {},
   "outputs": [],
   "source": [
    "# map community to color\n",
    "import colorsys\n",
    "import random\n",
    "\n",
    "\n",
    "@staticmethod\n",
    "def _random_themed_color(theme) -> str:\n",
    "    label = 0.7 if theme == \"dark\" else 0.4\n",
    "    return \"#%02X%02X%02X\" % tuple(map(lambda x: int(x * 255), colorsys.hls_to_rgb(random.random(), label, 1.0)))\n",
    "\n",
    "\n",
    "color_dict = {component: _random_themed_color(\"dark\") for _, component in node_df[\"componentId\"].items()}\n",
    "color_dict"
   ]
  },
  {
   "cell_type": "code",
   "execution_count": 13,
   "metadata": {},
   "outputs": [],
   "source": [
    "def map_node(n):\n",
    "    caption = \"\"\n",
    "    for label in n[\"nodeLabels\"]:\n",
    "        caption += label\n",
    "    # TODO: scale pageRank values\n",
    "    return {\"id\": str(n[\"nodeId\"]), \"caption\": caption, \"size\": n[\"pagerank\"], \"color\": color_dict[n[\"componentId\"]]}\n",
    "\n",
    "\n",
    "nodes = [map_node(node) for _, node in node_df.iterrows()]"
   ]
  },
  {
   "cell_type": "code",
   "execution_count": 14,
   "metadata": {},
   "outputs": [],
   "source": [
    "rel_df = gds.graph.relationships.stream(G_sample)"
   ]
  },
  {
   "cell_type": "code",
   "execution_count": 15,
   "metadata": {},
   "outputs": [],
   "source": [
    "def map_relationship(idx, r):\n",
    "    return {\n",
    "        \"id\": str(idx),\n",
    "        \"from\": str(r[\"sourceNodeId\"]),\n",
    "        \"to\": str(r[\"targetNodeId\"]),\n",
    "        \"caption\": str(r[\"relationshipType\"]),\n",
    "    }\n",
    "\n",
    "\n",
    "relationships = [map_relationship(idx, rel) for idx, rel in rel_df.iterrows()]"
   ]
  },
  {
   "cell_type": "code",
   "execution_count": 16,
   "metadata": {},
   "outputs": [],
   "source": [
    "## Visualize with Nevada"
   ]
  },
  {
   "cell_type": "code",
   "execution_count": null,
   "metadata": {},
   "outputs": [],
   "source": [
    "from neo4j_viz.nvl import NVL\n",
    "\n",
    "my_nvl = NVL()\n",
    "\n",
    "my_nvl"
   ]
  },
  {
   "cell_type": "code",
   "execution_count": null,
   "metadata": {},
   "outputs": [],
   "source": [
    "G_sample"
   ]
  },
  {
   "cell_type": "code",
   "execution_count": null,
   "metadata": {},
   "outputs": [],
   "source": [
    "my_nvl.render(nodes=nodes, relationships=relationships)"
   ]
  }
 ],
 "metadata": {
  "kernelspec": {
   "display_name": ".venv311",
   "language": "python",
   "name": "python3"
  },
  "language_info": {
   "codemirror_mode": {
    "name": "ipython",
    "version": 3
   },
   "file_extension": ".py",
   "mimetype": "text/x-python",
   "name": "python",
   "nbconvert_exporter": "python",
   "pygments_lexer": "ipython3",
   "version": "3.11.9"
  }
 },
 "nbformat": 4,
 "nbformat_minor": 2
}
