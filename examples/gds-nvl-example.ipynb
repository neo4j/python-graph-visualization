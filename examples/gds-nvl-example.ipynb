{
 "cells": [
  {
   "cell_type": "markdown",
   "metadata": {},
   "source": [
    "# Visualizing Neo4j Graph Data Science (GDS) Graphs"
   ]
  },
  {
   "cell_type": "code",
   "execution_count": null,
   "metadata": {},
   "outputs": [],
   "source": [
    "# make sure to install the graphdatascience package\n",
    "%pip install graphdatascience"
   ]
  },
  {
   "cell_type": "markdown",
   "metadata": {},
   "source": [
    "## Setup GDS graph"
   ]
  },
  {
   "cell_type": "code",
   "execution_count": null,
   "metadata": {},
   "outputs": [],
   "source": [
    "import os\n",
    "\n",
    "from graphdatascience import GraphDataScience\n",
    "\n",
    "# Get Neo4j DB URI, credentials and name from environment if applicable\n",
    "NEO4J_URI = os.environ.get(\"NEO4J_URI\", \"bolt://localhost:7687\")\n",
    "NEO4J_AUTH = (\"neo4j\", None)\n",
    "NEO4J_DB = os.environ.get(\"NEO4J_DB\", \"neo4j\")\n",
    "if os.environ.get(\"NEO4J_USER\") and os.environ.get(\"NEO4J_PASSWORD\"):\n",
    "    NEO4J_AUTH = (\n",
    "        os.environ.get(\"NEO4J_USER\"),\n",
    "        os.environ.get(\"NEO4J_PASSWORD\"),\n",
    "    )\n",
    "gds = GraphDataScience(NEO4J_URI, auth=NEO4J_AUTH, database=NEO4J_DB)"
   ]
  },
  {
   "cell_type": "code",
   "execution_count": null,
   "metadata": {},
   "outputs": [],
   "source": [
    "G = gds.graph.load_cora()"
   ]
  },
  {
   "cell_type": "code",
   "execution_count": null,
   "metadata": {},
   "outputs": [],
   "source": [
    "# Run some algorithms to use later for visualization\n",
    "gds.pageRank.mutate(G, mutateProperty=\"pagerank\")\n",
    "gds.louvain.mutate(G, mutateProperty=\"componentId\")"
   ]
  },
  {
   "cell_type": "markdown",
   "metadata": {},
   "source": [
    "For visualization we recommend limiting the number of nodes to 10k.\n",
    "A good way to create a smaller subgraph is by using the [sampling](https://neo4j.com/docs/graph-data-science/current/management-ops/graph-creation/sampling/) or [filtering](https://neo4j.com/docs/graph-data-science/current/management-ops/graph-creation/graph-filter/) the GDS graph."
   ]
  },
  {
   "cell_type": "code",
   "execution_count": null,
   "metadata": {},
   "outputs": [],
   "source": [
    "G_sample, _ = gds.graph.sample.rwr(\"sampled\", G)"
   ]
  },
  {
   "cell_type": "code",
   "execution_count": null,
   "metadata": {},
   "outputs": [],
   "source": [
    "G_sample.node_properties()"
   ]
  },
  {
   "cell_type": "markdown",
   "metadata": {},
   "source": [
    "## Visualization"
   ]
  },
  {
   "cell_type": "code",
   "execution_count": null,
   "metadata": {},
   "outputs": [],
   "source": [
    "from neo4j_viz.gds import from_gds\n",
    "\n",
    "# TODO inform about automatic size scaling\n",
    "VG = from_gds(\n",
    "    gds,\n",
    "    G_sample,\n",
    "    size_property=\"pagerank\",\n",
    "    additional_node_properties=[\"componentId\", \"subject\"],\n",
    ")"
   ]
  },
  {
   "cell_type": "code",
   "execution_count": null,
   "metadata": {},
   "outputs": [],
   "source": [
    "VG.render()"
   ]
  },
  {
   "cell_type": "markdown",
   "metadata": {},
   "source": [
    "### Adding captions"
   ]
  },
  {
   "cell_type": "code",
   "execution_count": null,
   "metadata": {},
   "outputs": [],
   "source": [
    "for node in VG.nodes:\n",
    "    node.caption = str(node.subject)"
   ]
  },
  {
   "cell_type": "code",
   "execution_count": null,
   "metadata": {},
   "outputs": [],
   "source": [
    "VG.render()"
   ]
  },
  {
   "cell_type": "markdown",
   "metadata": {},
   "source": [
    "### Coloring"
   ]
  },
  {
   "cell_type": "markdown",
   "metadata": {},
   "source": [
    "multiple ways to color\n",
    "\n",
    "* default colors\n",
    "* provide custom color map (such as from palettable), such as if you exceed limit"
   ]
  },
  {
   "cell_type": "code",
   "execution_count": null,
   "metadata": {},
   "outputs": [],
   "source": [
    "VG.color_nodes(\"subject\")\n",
    "VG.render()"
   ]
  },
  {
   "cell_type": "markdown",
   "metadata": {},
   "source": [
    "#### Custom coloring\n",
    "\n",
    "In some cases, the default colors are too few.\n",
    "For example, if you have many communities, you might need a lot more colors.\n"
   ]
  },
  {
   "cell_type": "code",
   "execution_count": null,
   "metadata": {},
   "outputs": [],
   "source": [
    "# This will warn about reusing colors for multiple components\n",
    "VG.color_nodes(\"componentId\")"
   ]
  },
  {
   "cell_type": "code",
   "execution_count": null,
   "metadata": {},
   "outputs": [],
   "source": [
    "%pip install matplotlib, palettable"
   ]
  },
  {
   "cell_type": "code",
   "execution_count": null,
   "metadata": {},
   "outputs": [],
   "source": [
    "from palettable.colorbrewer.qualitative import Dark2_7\n",
    "import matplotlib.colors as mcolors\n",
    "\n",
    "number_of_components = len({n.componentId for n in VG.nodes})\n",
    "print(f\"Number of components: {number_of_components}\")\n",
    "\n",
    "linear_color_map = Dark2_7.mpl_colormap.resampled(number_of_components)\n",
    "colors = [mcolors.rgb2hex(linear_color_map(i)) for i in range(number_of_components)]\n",
    "\n",
    "VG.color_nodes(\"componentId\", colors=colors, override=True)"
   ]
  },
  {
   "cell_type": "code",
   "execution_count": null,
   "metadata": {},
   "outputs": [],
   "source": [
    "VG.render()"
   ]
  },
  {
   "cell_type": "markdown",
   "metadata": {},
   "source": [
    "### Render options\n",
    "\n",
    "Besides changing the appearance of our nodes and relationships, we can also modify the rendering itself.\n",
    "For example, some available options are:\n",
    "\n",
    "* graph layout\n",
    "* renderer\n",
    "* zoom level\n",
    "* initial position "
   ]
  },
  {
   "cell_type": "code",
   "execution_count": null,
   "metadata": {},
   "outputs": [],
   "source": [
    "from neo4j_viz import Layout\n",
    "\n",
    "VG.render(layout=Layout.HIERARCHICAL, initial_zoom=0.1, pan_position=(2000, 0))"
   ]
  },
  {
   "cell_type": "markdown",
   "metadata": {},
   "source": [
    "## Saving the visualization"
   ]
  },
  {
   "cell_type": "code",
   "execution_count": null,
   "metadata": {},
   "outputs": [],
   "source": [
    "from neo4j_viz.options import Renderer\n",
    "\n",
    "# Save the visualization to a file\n",
    "with open(\"out/cora.html\", \"w\") as f:\n",
    "    f.write(VG.render(renderer=Renderer.CANVAS).data)"
   ]
  },
  {
   "cell_type": "markdown",
   "metadata": {},
   "source": [
    "## Cleanup\n",
    "\n",
    "Lets cleanup the graphs we created in GDS."
   ]
  },
  {
   "cell_type": "code",
   "execution_count": null,
   "metadata": {},
   "outputs": [],
   "source": [
    "G.drop()\n",
    "G_sample.drop()"
   ]
  }
 ],
 "metadata": {
  "language_info": {
   "name": "python"
  }
 },
 "nbformat": 4,
 "nbformat_minor": 2
}
