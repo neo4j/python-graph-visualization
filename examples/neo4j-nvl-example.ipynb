{
 "cells": [
  {
   "cell_type": "markdown",
   "id": "0d3ffc27",
   "metadata": {},
   "source": [
    "# NVL Python Wrapper\n",
    "\n",
    "NVL (Neo4j Visualization Library) is a JavaScript library developed to display large graphs. This notebook showcases an experimental Python wrapper for this libary."
   ]
  },
  {
   "cell_type": "markdown",
   "id": "6b83277d",
   "metadata": {},
   "source": [
    "Below is a basic connection to a Neo4j database. We use the `Result.graph` result transformer to map the result to a graph object and store the result in `result`."
   ]
  },
  {
   "cell_type": "code",
   "execution_count": null,
   "id": "39e8a71b",
   "metadata": {},
   "outputs": [],
   "source": [
    "%pip install neo4j\n",
    "%pip install nvl_package"
   ]
  },
  {
   "cell_type": "code",
   "execution_count": null,
   "id": "801d0bed",
   "metadata": {},
   "outputs": [],
   "source": [
    "import os\n",
    "\n",
    "from neo4j import GraphDatabase, Result\n",
    "\n",
    "URI = os.environ.get(\"NEO4J_URI\", \"bolt://localhost:7687\")\n",
    "\n",
    "auth = None\n",
    "if os.environ.get(\"NEO4J_USER\") and os.environ.get(\"NEO4J_PASSWORD\"):\n",
    "    auth = (os.environ.get(\"NEO4J_USER\"), os.environ.get(\"NEO4J_PASSWORD\"))\n",
    "\n",
    "with GraphDatabase.driver(URI, auth=auth) as driver:\n",
    "    driver.verify_connectivity()\n",
    "\n",
    "    result = driver.execute_query(\n",
    "        \"MATCH (n)-[r]-(m) RETURN n,r,m LIMIT 10\", database_=\"neo4j\", result_transformer_=Result.graph\n",
    "    )\n",
    "\n",
    "    result\n",
    "\n",
    "result"
   ]
  },
  {
   "cell_type": "markdown",
   "id": "365a1c31",
   "metadata": {},
   "source": [
    "Below we map the graph object's nodes and relationships to the correct format for NVL. The Node and Relationship type documentation can be found in NVL's docs: https://neo4j.com/docs/nvl/current/core-library/#_nodes"
   ]
  },
  {
   "cell_type": "code",
   "execution_count": null,
   "id": "d935b3d4",
   "metadata": {},
   "outputs": [],
   "source": [
    "def map_nodes(n):\n",
    "    caption = \"\"\n",
    "    for label in n.labels:\n",
    "        caption += label\n",
    "    return {\"id\": str(n.element_id), \"caption\": caption}\n",
    "\n",
    "\n",
    "def map_relationships(r):\n",
    "    return {\n",
    "        \"id\": str(r.element_id),\n",
    "        \"from\": str(r.start_node.element_id),\n",
    "        \"to\": str(r.end_node.element_id),\n",
    "        \"caption\": str(r.type),\n",
    "    }\n",
    "\n",
    "\n",
    "nodes = list(map(map_nodes, result.nodes))\n",
    "relationships = list(map(map_relationships, result.relationships))\n",
    "\n",
    "nodes"
   ]
  },
  {
   "cell_type": "markdown",
   "id": "a28bd5aa",
   "metadata": {},
   "source": [
    "Now, we can render our result with NVL the following way:"
   ]
  },
  {
   "cell_type": "code",
   "execution_count": null,
   "id": "2322065c",
   "metadata": {},
   "outputs": [],
   "source": [
    "from neo4j_viz.nvl import NVL\n",
    "\n",
    "my_nvl = NVL()\n",
    "\n",
    "my_nvl"
   ]
  },
  {
   "cell_type": "code",
   "execution_count": null,
   "id": "e8b0f4c6",
   "metadata": {},
   "outputs": [],
   "source": [
    "my_nvl.render(nodes=nodes, relationships=relationships)"
   ]
  },
  {
   "cell_type": "markdown",
   "id": "9e568608",
   "metadata": {},
   "source": [
    "There are two renderers available in NVL. A WebGL renderer used for displaying large graphs with high performance and a Canvas renderer, which renders the graph with lower performance but in more detail with captions and arrowheads. The WebGL renderer is used by default. To use the Canvas renderer, you can enable it by passing `{ \"renderer\": \"webgl\" }` as a third `option` parameter to NVL."
   ]
  },
  {
   "cell_type": "code",
   "execution_count": null,
   "id": "b76dc491",
   "metadata": {},
   "outputs": [],
   "source": [
    "my_nvl.render(nodes=nodes, relationships=relationships, options={\"renderer\": \"webgl\"})"
   ]
  }
 ],
 "metadata": {
  "kernelspec": {
   "display_name": ".venv311",
   "language": "python",
   "name": "python3"
  },
  "language_info": {
   "codemirror_mode": {
    "name": "ipython",
    "version": 3
   },
   "file_extension": ".py",
   "mimetype": "text/x-python",
   "name": "python",
   "nbconvert_exporter": "python",
   "pygments_lexer": "ipython3",
   "version": "3.11.9"
  }
 },
 "nbformat": 4,
 "nbformat_minor": 5
}
