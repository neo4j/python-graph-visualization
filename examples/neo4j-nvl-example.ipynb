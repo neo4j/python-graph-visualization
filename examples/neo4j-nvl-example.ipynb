{
 "cells": [
  {
   "cell_type": "markdown",
   "id": "0d3ffc27",
   "metadata": {},
   "source": [
    "# NVL Python Wrapper\n",
    "\n",
    "NVL (Neo4j Visualization Library) is a JavaScript library developed to display large graphs. This notebook showcases an experimental Python wrapper for this libary."
   ]
  },
  {
   "cell_type": "markdown",
   "id": "6b83277d",
   "metadata": {},
   "source": [
    "Below is a basic connection to a Neo4j database. We use the `Result.graph` result transformer to map the result to a graph object and store the result in `result`."
   ]
  },
  {
   "cell_type": "code",
   "execution_count": null,
   "id": "39e8a71b",
   "metadata": {},
   "outputs": [],
   "source": [
    "%pip install neo4j\n",
    "%pip install neo4j-viz"
   ]
  },
  {
   "cell_type": "code",
   "execution_count": null,
   "id": "801d0bed",
   "metadata": {},
   "outputs": [],
   "source": [
    "import os\n",
    "\n",
    "from neo4j import GraphDatabase, Result\n",
    "\n",
    "URI = os.environ.get(\"NEO4J_URI\", \"bolt://localhost:7687\")\n",
    "\n",
    "auth = None\n",
    "if os.environ.get(\"NEO4J_USER\") and os.environ.get(\"NEO4J_PASSWORD\"):\n",
    "    auth = (os.environ.get(\"NEO4J_USER\"), os.environ.get(\"NEO4J_PASSWORD\"))\n",
    "\n",
    "with GraphDatabase.driver(URI, auth=auth) as driver:\n",
    "    driver.verify_connectivity()\n",
    "\n",
    "    result = driver.execute_query(\n",
    "        \"MATCH (n)-[r]-(m) RETURN n,r,m LIMIT 10\",\n",
    "        database_=\"neo4j\",\n",
    "        result_transformer_=Result.graph,\n",
    "    )\n",
    "\n",
    "    result\n",
    "\n",
    "result"
   ]
  },
  {
   "cell_type": "markdown",
   "id": "365a1c31",
   "metadata": {},
   "source": [
    "Below we map the graph object's nodes and relationships to the correct format for NVL. The Node and Relationship type documentation can be found in NVL's docs: https://neo4j.com/docs/nvl/current/core-library/#_nodes"
   ]
  },
  {
   "cell_type": "code",
   "execution_count": null,
   "id": "d935b3d4",
   "metadata": {},
   "outputs": [],
   "source": [
    "from neo4j_viz import Node, Relationship\n",
    "\n",
    "\n",
    "def map_nodes(n) -> Node:\n",
    "    caption = \"\"\n",
    "    for label in n.labels:\n",
    "        caption += label\n",
    "    return Node(id=str(n.element_id), caption=caption)\n",
    "\n",
    "\n",
    "def map_relationships(r):\n",
    "    return Relationship(\n",
    "        id=str(r.element_id),\n",
    "        source=str(r.start_node.element_id),\n",
    "        target=str(r.end_node.element_id),\n",
    "        caption=str(r.type),\n",
    "    )\n",
    "\n",
    "\n",
    "nodes = list(map(map_nodes, result.nodes))\n",
    "relationships = list(map(map_relationships, result.relationships))\n",
    "\n",
    "nodes"
   ]
  },
  {
   "cell_type": "markdown",
   "id": "a28bd5aa",
   "metadata": {},
   "source": [
    "Now, we can render our result with NVL the following way:\n"
   ]
  },
  {
   "cell_type": "code",
   "execution_count": null,
   "id": "2322065c",
   "metadata": {},
   "outputs": [],
   "source": [
    "from neo4j_viz import VisualizationGraph\n",
    "\n",
    "VG = VisualizationGraph(nodes=nodes, relationships=relationships)\n",
    "\n",
    "VG"
   ]
  },
  {
   "cell_type": "code",
   "execution_count": null,
   "id": "46aaa12317299ad0",
   "metadata": {},
   "outputs": [],
   "source": [
    "VG.color_nodes(\"caption\")"
   ]
  },
  {
   "cell_type": "code",
   "execution_count": null,
   "id": "e8b0f4c6",
   "metadata": {},
   "outputs": [],
   "source": [
    "VG.render()"
   ]
  },
  {
   "cell_type": "markdown",
   "id": "9e568608",
   "metadata": {},
   "source": [
    "There are two renderers available in NVL. A WebGL renderer used for displaying large graphs with high performance and a Canvas renderer, which renders the graph with lower performance but in more detail with captions and arrowheads. The WebGL renderer is used by default. To use the Canvas renderer, you can enable it by passing `{ \"renderer\": \"webgl\" }` as a third `option` parameter to NVL."
   ]
  },
  {
   "cell_type": "code",
   "execution_count": null,
   "id": "b76dc491",
   "metadata": {},
   "outputs": [],
   "source": [
    "VG.render(options={\"renderer\": \"webgl\"})"
   ]
  },
  {
   "cell_type": "code",
   "execution_count": null,
   "id": "9058a437",
   "metadata": {},
   "outputs": [],
   "source": []
  }
 ],
 "metadata": {
  "language_info": {
   "name": "python"
  }
 },
 "nbformat": 4,
 "nbformat_minor": 5
}
